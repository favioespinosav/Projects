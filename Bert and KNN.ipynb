{
  "cells": [
    {
      "cell_type": "code",
      "execution_count": null,
      "id": "6a91cccd",
      "metadata": {
        "id": "6a91cccd"
      },
      "outputs": [],
      "source": [
        "import pandas as pd\n",
        "from transformers import AutoTokenizer, TFAutoModel\n",
        "from datasets import Dataset\n",
        "import numpy as np"
      ]
    },
    {
      "cell_type": "code",
      "execution_count": null,
      "id": "9cbbd87c",
      "metadata": {
        "id": "9cbbd87c"
      },
      "outputs": [],
      "source": [
        "df = pd.read_csv('df = pd.read_csv('dataset_train.tsv',sep='\\t',header=None,names=['phrase', 'target'])dataset_train.tsv',sep='\\t',header=None,names=['phrase', 'target'])"
      ]
    },
    {
      "cell_type": "code",
      "execution_count": null,
      "id": "79a0e04a",
      "metadata": {
        "id": "79a0e04a",
        "outputId": "6780340e-ee03-4f81-9aa3-776d05f7e458"
      },
      "outputs": [
        {
          "data": {
            "text/html": [
              "<div>\n",
              "<style scoped>\n",
              "    .dataframe tbody tr th:only-of-type {\n",
              "        vertical-align: middle;\n",
              "    }\n",
              "\n",
              "    .dataframe tbody tr th {\n",
              "        vertical-align: top;\n",
              "    }\n",
              "\n",
              "    .dataframe thead th {\n",
              "        text-align: right;\n",
              "    }\n",
              "</style>\n",
              "<table border=\"1\" class=\"dataframe\">\n",
              "  <thead>\n",
              "    <tr style=\"text-align: right;\">\n",
              "      <th></th>\n",
              "      <th>phrase</th>\n",
              "    </tr>\n",
              "    <tr>\n",
              "      <th>target</th>\n",
              "      <th></th>\n",
              "    </tr>\n",
              "  </thead>\n",
              "  <tbody>\n",
              "    <tr>\n",
              "      <th>sched_teacher</th>\n",
              "      <td>1110</td>\n",
              "    </tr>\n",
              "    <tr>\n",
              "      <th>sched_for_group</th>\n",
              "      <td>405</td>\n",
              "    </tr>\n",
              "    <tr>\n",
              "      <th>sched_for_group_day</th>\n",
              "      <td>402</td>\n",
              "    </tr>\n",
              "    <tr>\n",
              "      <th>wifi</th>\n",
              "      <td>287</td>\n",
              "    </tr>\n",
              "    <tr>\n",
              "      <th>status_free</th>\n",
              "      <td>271</td>\n",
              "    </tr>\n",
              "    <tr>\n",
              "      <th>...</th>\n",
              "      <td>...</td>\n",
              "    </tr>\n",
              "    <tr>\n",
              "      <th>smalltalk_talk</th>\n",
              "      <td>23</td>\n",
              "    </tr>\n",
              "    <tr>\n",
              "      <th>nsu_foundation_date</th>\n",
              "      <td>22</td>\n",
              "    </tr>\n",
              "    <tr>\n",
              "      <th>student_trade_union_enter</th>\n",
              "      <td>22</td>\n",
              "    </tr>\n",
              "    <tr>\n",
              "      <th>location_general</th>\n",
              "      <td>20</td>\n",
              "    </tr>\n",
              "    <tr>\n",
              "      <th>staff_trade_union_enter</th>\n",
              "      <td>20</td>\n",
              "    </tr>\n",
              "  </tbody>\n",
              "</table>\n",
              "<p>142 rows × 1 columns</p>\n",
              "</div>"
            ],
            "text/plain": [
              "                           phrase\n",
              "target                           \n",
              "sched_teacher                1110\n",
              "sched_for_group               405\n",
              "sched_for_group_day           402\n",
              "wifi                          287\n",
              "status_free                   271\n",
              "...                           ...\n",
              "smalltalk_talk                 23\n",
              "nsu_foundation_date            22\n",
              "student_trade_union_enter      22\n",
              "location_general               20\n",
              "staff_trade_union_enter        20\n",
              "\n",
              "[142 rows x 1 columns]"
            ]
          },
          "execution_count": 13,
          "metadata": {},
          "output_type": "execute_result"
        }
      ],
      "source": [
        "df.groupby(by=['target']).count().sort_values(by=['phrase'],ascending=False)"
      ]
    },
    {
      "cell_type": "code",
      "execution_count": null,
      "id": "391ceb77",
      "metadata": {
        "id": "391ceb77"
      },
      "outputs": [],
      "source": [
        "df = Dataset.from_pandas(df)"
      ]
    },
    {
      "cell_type": "code",
      "execution_count": null,
      "id": "e2dd5b98",
      "metadata": {
        "id": "e2dd5b98",
        "outputId": "65f6ea39-f94c-4b7f-c168-5d259e13ecdb"
      },
      "outputs": [
        {
          "name": "stderr",
          "output_type": "stream",
          "text": [
            "Some weights of the PyTorch model were not used when initializing the TF 2.0 model TFMPNetModel: ['embeddings.position_ids']\n",
            "- This IS expected if you are initializing TFMPNetModel from a PyTorch model trained on another task or with another architecture (e.g. initializing a TFBertForSequenceClassification model from a BertForPreTraining model).\n",
            "- This IS NOT expected if you are initializing TFMPNetModel from a PyTorch model that you expect to be exactly identical (e.g. initializing a TFBertForSequenceClassification model from a BertForSequenceClassification model).\n",
            "All the weights of TFMPNetModel were initialized from the PyTorch model.\n",
            "If your task is similar to the task the model of the checkpoint was trained on, you can already use TFMPNetModel for predictions without further training.\n"
          ]
        }
      ],
      "source": [
        "model_ckpt = \"sentence-transformers/multi-qa-mpnet-base-dot-v1\"\n",
        "tokenizer = AutoTokenizer.from_pretrained(model_ckpt)\n",
        "model = TFAutoModel.from_pretrained(model_ckpt, from_pt=True)"
      ]
    },
    {
      "cell_type": "code",
      "execution_count": null,
      "id": "b6140699",
      "metadata": {
        "id": "b6140699"
      },
      "outputs": [],
      "source": [
        "def cls_pooling(model_output):\n",
        "    return model_output.last_hidden_state[:, 0]"
      ]
    },
    {
      "cell_type": "code",
      "execution_count": null,
      "id": "e29da263",
      "metadata": {
        "id": "e29da263"
      },
      "outputs": [],
      "source": [
        "def get_embeddings(text_list):\n",
        "    encoded_input = tokenizer(\n",
        "        text_list, padding=True, truncation=True, return_tensors=\"tf\"\n",
        "    )\n",
        "    encoded_input = {k: v for k, v in encoded_input.items()}\n",
        "    model_output = model(**encoded_input)\n",
        "    return cls_pooling(model_output)"
      ]
    },
    {
      "cell_type": "code",
      "execution_count": null,
      "id": "3a66f62a",
      "metadata": {
        "id": "3a66f62a",
        "outputId": "98e8e627-47fb-4861-b3fa-3531eaf0e8cb"
      },
      "outputs": [
        {
          "data": {
            "text/plain": [
              "TensorShape([1, 768])"
            ]
          },
          "execution_count": 18,
          "metadata": {},
          "output_type": "execute_result"
        }
      ],
      "source": [
        "embedding = get_embeddings(df[\"phrase\"][0\n",
        "                                       ])\n",
        "embedding.shape"
      ]
    },
    {
      "cell_type": "code",
      "execution_count": null,
      "id": "3d2d6cc5",
      "metadata": {
        "id": "3d2d6cc5",
        "outputId": "bd7041d3-0c86-4c2d-ea3a-d140a27de107",
        "colab": {
          "referenced_widgets": [
            "fca6ddb155b8409c8a86c9993b353215"
          ]
        }
      },
      "outputs": [
        {
          "name": "stderr",
          "output_type": "stream",
          "text": [
            "WARNING:absl:Found untraced functions such as encoder_layer_call_fn, encoder_layer_call_and_return_conditional_losses, pooler_layer_call_fn, pooler_layer_call_and_return_conditional_losses, embeddings_layer_call_fn while saving (showing 5 of 396). These functions will not be directly callable after loading.\n"
          ]
        },
        {
          "name": "stdout",
          "output_type": "stream",
          "text": [
            "INFO:tensorflow:Assets written to: ram://e8f7d8a8-ec91-4fe7-8eeb-d7a23fcc4bc8/assets\n"
          ]
        },
        {
          "name": "stderr",
          "output_type": "stream",
          "text": [
            "INFO:tensorflow:Assets written to: ram://e8f7d8a8-ec91-4fe7-8eeb-d7a23fcc4bc8/assets\n"
          ]
        },
        {
          "data": {
            "application/vnd.jupyter.widget-view+json": {
              "model_id": "fca6ddb155b8409c8a86c9993b353215",
              "version_major": 2,
              "version_minor": 0
            },
            "text/plain": [
              "Map:   0%|          | 0/13230 [00:00<?, ? examples/s]"
            ]
          },
          "metadata": {},
          "output_type": "display_data"
        }
      ],
      "source": [
        "embeddings_dataset = df.map(\n",
        "    lambda x: {\"embeddings\": get_embeddings(x[\"phrase\"]).numpy()[0]}\n",
        ")"
      ]
    },
    {
      "cell_type": "code",
      "execution_count": null,
      "id": "c000a8e5",
      "metadata": {
        "id": "c000a8e5",
        "outputId": "281076a2-693d-46fa-c879-26f93f1e5362",
        "colab": {
          "referenced_widgets": [
            "214497508fdc45a8b9fdd526163b9b63"
          ]
        }
      },
      "outputs": [
        {
          "data": {
            "application/vnd.jupyter.widget-view+json": {
              "model_id": "214497508fdc45a8b9fdd526163b9b63",
              "version_major": 2,
              "version_minor": 0
            },
            "text/plain": [
              "  0%|          | 0/14 [00:00<?, ?it/s]"
            ]
          },
          "metadata": {},
          "output_type": "display_data"
        },
        {
          "data": {
            "text/plain": [
              "Dataset({\n",
              "    features: ['phrase', 'target', 'embeddings'],\n",
              "    num_rows: 13230\n",
              "})"
            ]
          },
          "execution_count": 20,
          "metadata": {},
          "output_type": "execute_result"
        }
      ],
      "source": [
        "embeddings_dataset.add_faiss_index(column=\"embeddings\")"
      ]
    },
    {
      "cell_type": "code",
      "execution_count": null,
      "id": "0aaf428b",
      "metadata": {
        "id": "0aaf428b"
      },
      "outputs": [],
      "source": [
        "test = pd.read_csv('dataset_test.tsv',sep='\\t',header=None,names=['phrase', 'target'])"
      ]
    },
    {
      "cell_type": "code",
      "execution_count": null,
      "id": "d87a8576",
      "metadata": {
        "id": "d87a8576",
        "outputId": "8f87a952-620a-4790-e660-e863e3b02792"
      },
      "outputs": [
        {
          "data": {
            "text/plain": [
              "(1, 768)"
            ]
          },
          "execution_count": 36,
          "metadata": {},
          "output_type": "execute_result"
        }
      ],
      "source": [
        "question_embedding = get_embeddings(test['phrase'].tolist()[0]).numpy()\n",
        "question_embedding.shape"
      ]
    },
    {
      "cell_type": "code",
      "execution_count": null,
      "id": "84d34b59",
      "metadata": {
        "id": "84d34b59",
        "outputId": "0141637d-0cd9-4f73-f16f-4d89db344346"
      },
      "outputs": [
        {
          "data": {
            "text/plain": [
              "'statement_general'"
            ]
          },
          "execution_count": 45,
          "metadata": {},
          "output_type": "execute_result"
        }
      ],
      "source": [
        "samples['target'][0]"
      ]
    },
    {
      "cell_type": "code",
      "execution_count": null,
      "id": "242a2471",
      "metadata": {
        "id": "242a2471"
      },
      "outputs": [],
      "source": [
        "def find_nearest(x):\n",
        "    question_embedding = get_embeddings(x).numpy()\n",
        "    scores, samples = embeddings_dataset.get_nearest_examples(\n",
        "        \"embeddings\", question_embedding, k=1\n",
        "    )\n",
        "    return samples['target'][0]"
      ]
    },
    {
      "cell_type": "code",
      "execution_count": null,
      "id": "961ce552",
      "metadata": {
        "id": "961ce552"
      },
      "outputs": [],
      "source": [
        "test['pred'] = test['phrase'].map(find_nearest)"
      ]
    },
    {
      "cell_type": "code",
      "execution_count": null,
      "id": "a52dbd3c",
      "metadata": {
        "id": "a52dbd3c",
        "outputId": "01d9f41f-4e9c-452a-91a6-785488b4a534"
      },
      "outputs": [
        {
          "data": {
            "text/plain": [
              "0.8969422423556059"
            ]
          },
          "execution_count": 60,
          "metadata": {},
          "output_type": "execute_result"
        }
      ],
      "source": [
        "np.sum((test['pred']==test['target']).astype(int))/len(test)"
      ]
    },
    {
      "cell_type": "code",
      "execution_count": null,
      "id": "dade5fa3",
      "metadata": {
        "id": "dade5fa3"
      },
      "outputs": [],
      "source": [
        "df = pd.read_csv('dataset_train.tsv',sep='\\t',header=None,names=['phrase', 'target'])"
      ]
    },
    {
      "cell_type": "code",
      "execution_count": null,
      "id": "8a5e03ff",
      "metadata": {
        "id": "8a5e03ff"
      },
      "outputs": [],
      "source": [
        "df['embeddings'] = df.apply(\n",
        "    lambda x: get_embeddings(x[\"phrase\"]).numpy()[0],axis=1\n",
        ")"
      ]
    },
    {
      "cell_type": "code",
      "execution_count": null,
      "id": "5dab6934",
      "metadata": {
        "id": "5dab6934"
      },
      "outputs": [],
      "source": [
        "distilbert_index = nmslib.init(method='hnsw', space='cosinesimil')"
      ]
    },
    {
      "cell_type": "code",
      "execution_count": null,
      "id": "1e5a3c74",
      "metadata": {
        "id": "1e5a3c74",
        "outputId": "e3e0db14-8a92-4074-c524-5b54e16c03b4"
      },
      "outputs": [
        {
          "name": "stderr",
          "output_type": "stream",
          "text": [
            "\n",
            "0%   10   20   30   40   50   60   70   80   90   100%\n",
            "|----|----|----|----|----|----|----|----|----|----|\n",
            "***************************************************\n",
            "\n",
            "0%   10   20   30   40   50   60   70   80   90   100%\n",
            "|----|----|----|----|----|----|----|----|----|----|\n",
            "***************************************************\n",
            "*"
          ]
        }
      ],
      "source": [
        "embeddings = df['embeddings'].tolist()\n",
        "distilbert_index.addDataPointBatch(embeddings)\n",
        "distilbert_index.createIndex({'post': 2}, print_progress=True)"
      ]
    },
    {
      "cell_type": "code",
      "execution_count": null,
      "id": "12304d2d",
      "metadata": {
        "id": "12304d2d"
      },
      "outputs": [],
      "source": [
        "def search(dataframe, userQuery):\n",
        "\n",
        "    if dataframe is not None and userQuery is not None:\n",
        "        df1 = dataframe.copy()\n",
        "        query = get_embeddings([userQuery])\n",
        "        ids, distances = distilbert_index.knnQuery(query, k=1)\n",
        "    matches = []\n",
        "    for i, j in zip(ids, distances):\n",
        "        return df1.loc[i]\n"
      ]
    },
    {
      "cell_type": "code",
      "execution_count": null,
      "id": "29bf100c",
      "metadata": {
        "id": "29bf100c"
      },
      "outputs": [],
      "source": [
        "pred = test.apply(lambda x: search(df,x['phrase']),axis=1)"
      ]
    },
    {
      "cell_type": "code",
      "execution_count": null,
      "id": "961f5685",
      "metadata": {
        "id": "961f5685"
      },
      "outputs": [],
      "source": [
        "test['pred_1'] = pred['target']"
      ]
    },
    {
      "cell_type": "code",
      "execution_count": null,
      "id": "1fb74334",
      "metadata": {
        "id": "1fb74334",
        "outputId": "870bbd3b-608a-4d00-d3fa-19d9980afed2"
      },
      "outputs": [
        {
          "data": {
            "text/plain": [
              "0.8958097395243488"
            ]
          },
          "execution_count": 125,
          "metadata": {},
          "output_type": "execute_result"
        }
      ],
      "source": [
        "np.sum((test['pred_1']==test['target']).astype(int))/len(test)"
      ]
    },
    {
      "cell_type": "code",
      "execution_count": null,
      "id": "ce788409",
      "metadata": {
        "id": "ce788409"
      },
      "outputs": [],
      "source": []
    }
  ],
  "metadata": {
    "kernelspec": {
      "display_name": "Python 3 (ipykernel)",
      "language": "python",
      "name": "python3"
    },
    "language_info": {
      "codemirror_mode": {
        "name": "ipython",
        "version": 3
      },
      "file_extension": ".py",
      "mimetype": "text/x-python",
      "name": "python",
      "nbconvert_exporter": "python",
      "pygments_lexer": "ipython3",
      "version": "3.10.6"
    },
    "colab": {
      "provenance": []
    }
  },
  "nbformat": 4,
  "nbformat_minor": 5
}